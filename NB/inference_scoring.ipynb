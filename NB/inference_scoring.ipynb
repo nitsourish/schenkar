{
 "cells": [
  {
   "cell_type": "markdown",
   "metadata": {},
   "source": [
    "### This NoteBook illustrates Inference/Scoring process\n"
   ]
  },
  {
   "cell_type": "code",
   "execution_count": 8,
   "metadata": {},
   "outputs": [],
   "source": [
    "import os\n",
    "import math\n",
    "import pickle\n",
    "import sys\n",
    "import numpy as np\n",
    "import pandas as pd\n",
    "from sklearn.base import BaseEstimator, RegressorMixin, TransformerMixin\n",
    "from sklearn.metrics import mean_squared_error\n",
    "from sklearn.model_selection import train_test_split\n",
    "from sklearn.model_selection import cross_val_score, StratifiedKFold\n",
    "from xgboost import plot_importance\n",
    "import pickle\n",
    "from sklearn.metrics import r2_score,mean_squared_error,mean_absolute_percentage_error\n",
    "from sklearn.model_selection import train_test_split,cross_val_score,cross_val_predict,cross_validate,GridSearchCV,RandomizedSearchCV\n",
    "from xgboost import plot_importance\n",
    "from sklearn.preprocessing import OneHotEncoder\n",
    "from sklearn.preprocessing import RobustScaler, StandardScaler,PowerTransformer\n",
    "from sklearn.metrics import mean_absolute_error\n",
    "from xgboost import XGBRegressor\n",
    "from vincenty import vincenty\n",
    "from datetime import datetime\n",
    "import reverse_geocoder as rg\n",
    "from shapely.geometry import mapping, shape\n",
    "from shapely.prepared import prep\n",
    "from shapely.geometry import Point\n",
    "import requests\n",
    "from fastai.tabular.core import add_datepart"
   ]
  },
  {
   "cell_type": "markdown",
   "metadata": {},
   "source": [
    "### Inference/Scoring pipeline\n",
    "\n",
    "- During inference will use stored object(models, transformers etc.) as we should not fit this again and hence use this information from training phase\n",
    "- This pipeline would be shorter"
   ]
  },
  {
   "cell_type": "markdown",
   "metadata": {},
   "source": [
    "Loading data frame and having a look at the data "
   ]
  },
  {
   "cell_type": "code",
   "execution_count": 9,
   "metadata": {},
   "outputs": [
    {
     "data": {
      "text/html": [
       "<div>\n",
       "<style scoped>\n",
       "    .dataframe tbody tr th:only-of-type {\n",
       "        vertical-align: middle;\n",
       "    }\n",
       "\n",
       "    .dataframe tbody tr th {\n",
       "        vertical-align: top;\n",
       "    }\n",
       "\n",
       "    .dataframe thead th {\n",
       "        text-align: right;\n",
       "    }\n",
       "</style>\n",
       "<table border=\"1\" class=\"dataframe\">\n",
       "  <thead>\n",
       "    <tr style=\"text-align: right;\">\n",
       "      <th></th>\n",
       "      <th>origin_latitude</th>\n",
       "      <th>origin_longitude</th>\n",
       "      <th>destination_latitude</th>\n",
       "      <th>destination_longitude</th>\n",
       "      <th>weight</th>\n",
       "      <th>loading_meters</th>\n",
       "      <th>is_adr</th>\n",
       "      <th>shipping_date</th>\n",
       "      <th>cost</th>\n",
       "    </tr>\n",
       "  </thead>\n",
       "  <tbody>\n",
       "    <tr>\n",
       "      <th>0</th>\n",
       "      <td>23.61</td>\n",
       "      <td>109.10</td>\n",
       "      <td>27.46</td>\n",
       "      <td>106.75</td>\n",
       "      <td>0.469</td>\n",
       "      <td>0.000</td>\n",
       "      <td>True</td>\n",
       "      <td>2017-03-15</td>\n",
       "      <td>0.532</td>\n",
       "    </tr>\n",
       "    <tr>\n",
       "      <th>1</th>\n",
       "      <td>25.47</td>\n",
       "      <td>109.67</td>\n",
       "      <td>25.66</td>\n",
       "      <td>108.34</td>\n",
       "      <td>0.504</td>\n",
       "      <td>0.195</td>\n",
       "      <td>True</td>\n",
       "      <td>2017-09-28</td>\n",
       "      <td>0.207</td>\n",
       "    </tr>\n",
       "    <tr>\n",
       "      <th>2</th>\n",
       "      <td>23.27</td>\n",
       "      <td>106.88</td>\n",
       "      <td>26.98</td>\n",
       "      <td>110.81</td>\n",
       "      <td>0.311</td>\n",
       "      <td>0.195</td>\n",
       "      <td>True</td>\n",
       "      <td>2018-11-26</td>\n",
       "      <td>0.447</td>\n",
       "    </tr>\n",
       "    <tr>\n",
       "      <th>3</th>\n",
       "      <td>25.06</td>\n",
       "      <td>110.94</td>\n",
       "      <td>23.41</td>\n",
       "      <td>105.41</td>\n",
       "      <td>0.202</td>\n",
       "      <td>0.195</td>\n",
       "      <td>True</td>\n",
       "      <td>2017-07-03</td>\n",
       "      <td>0.442</td>\n",
       "    </tr>\n",
       "    <tr>\n",
       "      <th>4</th>\n",
       "      <td>24.72</td>\n",
       "      <td>106.25</td>\n",
       "      <td>27.23</td>\n",
       "      <td>111.25</td>\n",
       "      <td>0.504</td>\n",
       "      <td>0.195</td>\n",
       "      <td>True</td>\n",
       "      <td>2018-11-22</td>\n",
       "      <td>0.415</td>\n",
       "    </tr>\n",
       "  </tbody>\n",
       "</table>\n",
       "</div>"
      ],
      "text/plain": [
       "   origin_latitude  origin_longitude  destination_latitude  \\\n",
       "0            23.61            109.10                 27.46   \n",
       "1            25.47            109.67                 25.66   \n",
       "2            23.27            106.88                 26.98   \n",
       "3            25.06            110.94                 23.41   \n",
       "4            24.72            106.25                 27.23   \n",
       "\n",
       "   destination_longitude  weight  loading_meters  is_adr shipping_date   cost  \n",
       "0                 106.75   0.469           0.000    True    2017-03-15  0.532  \n",
       "1                 108.34   0.504           0.195    True    2017-09-28  0.207  \n",
       "2                 110.81   0.311           0.195    True    2018-11-26  0.447  \n",
       "3                 105.41   0.202           0.195    True    2017-07-03  0.442  \n",
       "4                 111.25   0.504           0.195    True    2018-11-22  0.415  "
      ]
     },
     "execution_count": 9,
     "metadata": {},
     "output_type": "execute_result"
    }
   ],
   "source": [
    "test_df = pd.read_csv('../data/test_data_hold.csv', parse_dates=['shipping_date'])\n",
    "test_df.head()\n",
    "\n",
    "# real_test = pd.read_csv('../data/test_data.csv', sep = ';', parse_dates=['shipping_date'])"
   ]
  },
  {
   "cell_type": "code",
   "execution_count": 11,
   "metadata": {},
   "outputs": [],
   "source": [
    "target = 'cost'\n",
    "lat_1,lon_1,lat_2,lon_2 = 'origin_latitude','origin_longitude','destination_latitude','destination_longitude'\n",
    "test_X = test_df.drop([target],axis=1)\n",
    "Y = test_df[target]"
   ]
  },
  {
   "cell_type": "markdown",
   "metadata": {},
   "source": [
    "### We need to apply sidentical treatment,feature engg. and transformation except for fitting\n"
   ]
  },
  {
   "cell_type": "code",
   "execution_count": 12,
   "metadata": {},
   "outputs": [],
   "source": [
    "class FeatenggTransformer(BaseEstimator, RegressorMixin, TransformerMixin):\n",
    "\n",
    "    def transform(self, X):\n",
    "        \n",
    "        \"\"\"This pipeline transforms the dataframe to the desired\n",
    "         features and shape\"\"\"\n",
    "\n",
    "        X = self.add_date_feature(X)\n",
    "        X = self.add_travel_features(X)\n",
    "        X = self.get_country_feats(X)\n",
    "        X = self.drop_unrequired_fields(X)\n",
    "        return X\n",
    "\n",
    "    def add_travel_features(self, X):\n",
    "\n",
    "        \"\"\"This Method creates distance features\"\"\"\n",
    "        \n",
    "        if not -90 <= X[lon_1].all() <= 90 or not -180 <= X[lat_1].all() <= 180 or not -90 <= X[lon_2].all() <= 90 or not -180 <= X[lat_2].all() <= 180:\n",
    "            raise ValueError(\"Invalid latitude, longitude combination.\")\n",
    "\n",
    "        X['abs_diff_longitude'] = (X[lon_2] - X[lon_1]).abs()\n",
    "        X['abs_diff_latitude'] = (X[lat_2] - X[lat_1]).abs()\n",
    "        X['Vincenty_distance'] = X.apply(lambda x: vincenty((x[lat_1], \\\n",
    "            x[lon_1]), (x[lat_2], x[lon_2])\\\n",
    "                ,miles=True), axis = 1)\n",
    "\n",
    "        # bearing (in degrees converted to radians)\n",
    "        def bearing_array(lat1, lng1, lat2, lng2):\n",
    "            AVG_EARTH_RADIUS = 6371  # in km\n",
    "            lng_delta_rad = np.radians(lng2 - lng1)\n",
    "            lat1, lng1, lat2, lng2 = map(np.radians, (lat1, lng1, lat2, lng2))\n",
    "            y = np.sin(lng_delta_rad) * np.cos(lat2)\n",
    "            x = np.cos(lat1) * np.sin(lat2) - np.sin(lat1) * np.cos(lat2) * np.cos(lng_delta_rad)\n",
    "            return np.degrees(np.arctan2(y, x))\n",
    "\n",
    "        X['Bearing'] = bearing_array(X[lat_1], \\\n",
    "                    X[lon_1], X[lat_2], X[lon_2])\n",
    "        X.loc[:, 'center_latitude'] = (X[lat_1].values + X[lat_2].values) / 2\n",
    "        X.loc[:, 'center_longitude'] = (X[lon_1].values + X[lon_2].values) / 2\n",
    "        return X\n",
    "\n",
    "    def add_date_feature(self, X):\n",
    "        \n",
    "        \"\"\"This Method creates time series/date features\"\"\"\n",
    "        \n",
    "        ref_date = '2017-01-01'\n",
    "        if not (X['shipping_date'] >= ref_date).all():\n",
    "            raise ValueError(\"Invalid Date Date should be later than {ref_date}\")\n",
    "\n",
    "        X['weekday'] = X['shipping_date'].dt.day_of_week\n",
    "        X[\"is_weekend\"] = np.where(X[\"weekday\"] < 5, 0, 1)\n",
    "        X['week_in_month'] = pd.to_numeric(X['shipping_date'].dt.day/7).\\\n",
    "        apply(lambda x: math.ceil(x))\n",
    "        X['month'] = X['shipping_date'].dt.month\n",
    "        X['day_count'] = (X['shipping_date'] - datetime.strptime(ref_date, \"%Y-%m-%d\"))/np.timedelta64(1, 'D')\n",
    "        return X\n",
    "\n",
    "    def get_country_feats(self, X):\n",
    "        data = requests.get(\"https://raw.githubusercontent.com/datasets/geo-countries/master/data/countries.geojson\").json()\n",
    "        countries = {}\n",
    "        for feature in data[\"features\"]:\n",
    "            geom = feature[\"geometry\"]\n",
    "            country = feature[\"properties\"][\"ADMIN\"]\n",
    "            countries[country] = prep(shape(geom))\n",
    "        def get_country(row):\n",
    "            point = Point(row[0], row[1])\n",
    "            for country, geom in countries.items():\n",
    "                if geom.contains(point):\n",
    "                    return country\n",
    "            return \"unknown\"\n",
    "        X['destn_country']= X[[lon_2,lat_2]].apply(get_country,axis=1)\n",
    "        X['origin_country'] = X[[lon_1,lat_1]].apply(get_country,axis=1)\n",
    "        X['diff_country'] = np.where(X['origin_country'] == X['destn_country'],0,1) \n",
    "        return X   \n",
    "\n",
    "    def drop_unrequired_fields(self, X):\n",
    "\n",
    "        \"\"\"Method for dropping unrequired fields\"\"\"\n",
    "\n",
    "        return X.drop(['shipping_date','is_adr',lat_1,lon_1,lat_2,lon_2], axis=1)\n"
   ]
  },
  {
   "cell_type": "code",
   "execution_count": 13,
   "metadata": {},
   "outputs": [],
   "source": [
    "fet =  FeatenggTransformer()\n",
    "X = fet.transform(test_X)"
   ]
  },
  {
   "cell_type": "markdown",
   "metadata": {},
   "source": [
    "- Please make sure all necessary objects(models, transformers etc.) are stored at the designated path"
   ]
  },
  {
   "cell_type": "code",
   "execution_count": 14,
   "metadata": {},
   "outputs": [],
   "source": [
    "cat_cols = ['week_in_month', 'weekday', 'is_weekend', 'month','destn_country','origin_country']\n",
    "num_cols = [col for col in list(X.columns) if col not in cat_cols]\n",
    "\n",
    "class FeatureTransformer(BaseEstimator, RegressorMixin, TransformerMixin):\n",
    "\n",
    "    \"\"\"This Class is for FeatureTransform\n",
    "        a) categorical feature encoding\n",
    "        b) feature scaling\n",
    "    \"\"\"\n",
    "    \n",
    "    def __init__(self,cat_cols,num_cols,path):\n",
    "        self.cat_cols,self.num_cols,self.path = cat_cols,num_cols,path\n",
    "        if not os.path.exists(self.path):\n",
    "            os.mkdir(self.path)\n",
    "\n",
    "    def transform(self, X):\n",
    "\n",
    "        \"\"\"This pipeline transforms the categorical features to One-Hot Encoded and scales the \n",
    "         features\"\"\"\n",
    "\n",
    "        X = self.encode_categorical(X)\n",
    "        return X\n",
    "\n",
    "    def encode_categorical(self, X):\n",
    "\n",
    "        \"\"\"This Method creates absolute difference features\n",
    "        and deserializes(unpickle) the necessary objects for inference\"\"\"\n",
    "\n",
    "        with open(os.path.join(self.path,'ohe.pkl') ,'rb') as fout:\n",
    "            ohe = pickle.load(fout)\n",
    "        x_cat_df = pd.DataFrame(ohe.transform(X[self.cat_cols]))\n",
    "        x_cat_df.columns = ohe.get_feature_names_out(self.cat_cols)\n",
    "        X = pd.concat([X[num_cols],x_cat_df],axis=1)\n",
    "        return X"
   ]
  },
  {
   "cell_type": "code",
   "execution_count": 15,
   "metadata": {},
   "outputs": [
    {
     "data": {
      "text/html": [
       "<div>\n",
       "<style scoped>\n",
       "    .dataframe tbody tr th:only-of-type {\n",
       "        vertical-align: middle;\n",
       "    }\n",
       "\n",
       "    .dataframe tbody tr th {\n",
       "        vertical-align: top;\n",
       "    }\n",
       "\n",
       "    .dataframe thead th {\n",
       "        text-align: right;\n",
       "    }\n",
       "</style>\n",
       "<table border=\"1\" class=\"dataframe\">\n",
       "  <thead>\n",
       "    <tr style=\"text-align: right;\">\n",
       "      <th></th>\n",
       "      <th>weight</th>\n",
       "      <th>loading_meters</th>\n",
       "      <th>day_count</th>\n",
       "      <th>abs_diff_longitude</th>\n",
       "      <th>abs_diff_latitude</th>\n",
       "      <th>Vincenty_distance</th>\n",
       "      <th>Bearing</th>\n",
       "      <th>center_latitude</th>\n",
       "      <th>center_longitude</th>\n",
       "      <th>diff_country</th>\n",
       "      <th>...</th>\n",
       "      <th>month_7</th>\n",
       "      <th>month_8</th>\n",
       "      <th>month_9</th>\n",
       "      <th>month_10</th>\n",
       "      <th>month_11</th>\n",
       "      <th>month_12</th>\n",
       "      <th>destn_country_China</th>\n",
       "      <th>destn_country_Vietnam</th>\n",
       "      <th>origin_country_China</th>\n",
       "      <th>origin_country_Vietnam</th>\n",
       "    </tr>\n",
       "  </thead>\n",
       "  <tbody>\n",
       "    <tr>\n",
       "      <th>0</th>\n",
       "      <td>0.469</td>\n",
       "      <td>0.000</td>\n",
       "      <td>73.0</td>\n",
       "      <td>2.35</td>\n",
       "      <td>3.85</td>\n",
       "      <td>302.920779</td>\n",
       "      <td>-28.345677</td>\n",
       "      <td>25.535</td>\n",
       "      <td>107.925</td>\n",
       "      <td>0</td>\n",
       "      <td>...</td>\n",
       "      <td>0.0</td>\n",
       "      <td>0.0</td>\n",
       "      <td>0.0</td>\n",
       "      <td>0.0</td>\n",
       "      <td>0.0</td>\n",
       "      <td>0.0</td>\n",
       "      <td>1.0</td>\n",
       "      <td>0.0</td>\n",
       "      <td>1.0</td>\n",
       "      <td>0.0</td>\n",
       "    </tr>\n",
       "    <tr>\n",
       "      <th>1</th>\n",
       "      <td>0.504</td>\n",
       "      <td>0.195</td>\n",
       "      <td>270.0</td>\n",
       "      <td>1.33</td>\n",
       "      <td>0.19</td>\n",
       "      <td>84.065196</td>\n",
       "      <td>-80.714713</td>\n",
       "      <td>25.565</td>\n",
       "      <td>109.005</td>\n",
       "      <td>0</td>\n",
       "      <td>...</td>\n",
       "      <td>0.0</td>\n",
       "      <td>0.0</td>\n",
       "      <td>1.0</td>\n",
       "      <td>0.0</td>\n",
       "      <td>0.0</td>\n",
       "      <td>0.0</td>\n",
       "      <td>1.0</td>\n",
       "      <td>0.0</td>\n",
       "      <td>1.0</td>\n",
       "      <td>0.0</td>\n",
       "    </tr>\n",
       "    <tr>\n",
       "      <th>2</th>\n",
       "      <td>0.311</td>\n",
       "      <td>0.195</td>\n",
       "      <td>694.0</td>\n",
       "      <td>3.93</td>\n",
       "      <td>3.71</td>\n",
       "      <td>354.713715</td>\n",
       "      <td>42.984374</td>\n",
       "      <td>25.125</td>\n",
       "      <td>108.845</td>\n",
       "      <td>0</td>\n",
       "      <td>...</td>\n",
       "      <td>0.0</td>\n",
       "      <td>0.0</td>\n",
       "      <td>0.0</td>\n",
       "      <td>0.0</td>\n",
       "      <td>1.0</td>\n",
       "      <td>0.0</td>\n",
       "      <td>1.0</td>\n",
       "      <td>0.0</td>\n",
       "      <td>1.0</td>\n",
       "      <td>0.0</td>\n",
       "    </tr>\n",
       "    <tr>\n",
       "      <th>3</th>\n",
       "      <td>0.202</td>\n",
       "      <td>0.195</td>\n",
       "      <td>183.0</td>\n",
       "      <td>5.53</td>\n",
       "      <td>1.65</td>\n",
       "      <td>366.970263</td>\n",
       "      <td>-106.969033</td>\n",
       "      <td>24.235</td>\n",
       "      <td>108.175</td>\n",
       "      <td>0</td>\n",
       "      <td>...</td>\n",
       "      <td>1.0</td>\n",
       "      <td>0.0</td>\n",
       "      <td>0.0</td>\n",
       "      <td>0.0</td>\n",
       "      <td>0.0</td>\n",
       "      <td>0.0</td>\n",
       "      <td>1.0</td>\n",
       "      <td>0.0</td>\n",
       "      <td>1.0</td>\n",
       "      <td>0.0</td>\n",
       "    </tr>\n",
       "    <tr>\n",
       "      <th>4</th>\n",
       "      <td>0.504</td>\n",
       "      <td>0.195</td>\n",
       "      <td>690.0</td>\n",
       "      <td>5.00</td>\n",
       "      <td>2.51</td>\n",
       "      <td>355.825243</td>\n",
       "      <td>59.742346</td>\n",
       "      <td>25.975</td>\n",
       "      <td>108.750</td>\n",
       "      <td>0</td>\n",
       "      <td>...</td>\n",
       "      <td>0.0</td>\n",
       "      <td>0.0</td>\n",
       "      <td>0.0</td>\n",
       "      <td>0.0</td>\n",
       "      <td>1.0</td>\n",
       "      <td>0.0</td>\n",
       "      <td>1.0</td>\n",
       "      <td>0.0</td>\n",
       "      <td>1.0</td>\n",
       "      <td>0.0</td>\n",
       "    </tr>\n",
       "  </tbody>\n",
       "</table>\n",
       "<p>5 rows × 40 columns</p>\n",
       "</div>"
      ],
      "text/plain": [
       "   weight  loading_meters  day_count  abs_diff_longitude  abs_diff_latitude  \\\n",
       "0   0.469           0.000       73.0                2.35               3.85   \n",
       "1   0.504           0.195      270.0                1.33               0.19   \n",
       "2   0.311           0.195      694.0                3.93               3.71   \n",
       "3   0.202           0.195      183.0                5.53               1.65   \n",
       "4   0.504           0.195      690.0                5.00               2.51   \n",
       "\n",
       "   Vincenty_distance     Bearing  center_latitude  center_longitude  \\\n",
       "0         302.920779  -28.345677           25.535           107.925   \n",
       "1          84.065196  -80.714713           25.565           109.005   \n",
       "2         354.713715   42.984374           25.125           108.845   \n",
       "3         366.970263 -106.969033           24.235           108.175   \n",
       "4         355.825243   59.742346           25.975           108.750   \n",
       "\n",
       "   diff_country  ...  month_7  month_8  month_9  month_10  month_11  month_12  \\\n",
       "0             0  ...      0.0      0.0      0.0       0.0       0.0       0.0   \n",
       "1             0  ...      0.0      0.0      1.0       0.0       0.0       0.0   \n",
       "2             0  ...      0.0      0.0      0.0       0.0       1.0       0.0   \n",
       "3             0  ...      1.0      0.0      0.0       0.0       0.0       0.0   \n",
       "4             0  ...      0.0      0.0      0.0       0.0       1.0       0.0   \n",
       "\n",
       "   destn_country_China  destn_country_Vietnam  origin_country_China  \\\n",
       "0                  1.0                    0.0                   1.0   \n",
       "1                  1.0                    0.0                   1.0   \n",
       "2                  1.0                    0.0                   1.0   \n",
       "3                  1.0                    0.0                   1.0   \n",
       "4                  1.0                    0.0                   1.0   \n",
       "\n",
       "   origin_country_Vietnam  \n",
       "0                     0.0  \n",
       "1                     0.0  \n",
       "2                     0.0  \n",
       "3                     0.0  \n",
       "4                     0.0  \n",
       "\n",
       "[5 rows x 40 columns]"
      ]
     },
     "execution_count": 15,
     "metadata": {},
     "output_type": "execute_result"
    }
   ],
   "source": [
    "ft = FeatureTransformer(cat_cols=cat_cols,num_cols=num_cols,path='../artifacts_final/')\n",
    "X_transformed = ft.transform(X)\n",
    "X_transformed.head()"
   ]
  },
  {
   "cell_type": "markdown",
   "metadata": {},
   "source": [
    "### Finally the Model prediction pipeline\n",
    "\n",
    "- Please make sure all necessary objects(models, transformers etc.) are stored at the designated path"
   ]
  },
  {
   "cell_type": "code",
   "execution_count": 18,
   "metadata": {},
   "outputs": [],
   "source": [
    "class Prediction(BaseEstimator,TransformerMixin):\n",
    "\n",
    "    \"\"\"Object to make prediction/inference using Model\n",
    "    \"\"\"\n",
    "\n",
    "    def __init__(self, model_path = None, data_path = None):\n",
    "        self.model_path  = model_path\n",
    "        self.data_path = data_path\n",
    "\n",
    "    def prediction(self,X):\n",
    "\n",
    "        \"\"\"Method to make prediction loading model and saves data\"\"\"\n",
    "\n",
    "        with open(self.model_path, 'rb') as fout:\n",
    "            self.model = pickle.load(fout)\n",
    "        pred = self.model.predict(X)\n",
    "        pred = pd.DataFrame({'cost':list(pred)})\n",
    "        # pred.to_csv(self.data_path, index=False)\n",
    "        return pred"
   ]
  },
  {
   "cell_type": "code",
   "execution_count": 19,
   "metadata": {},
   "outputs": [
    {
     "name": "stdout",
     "output_type": "stream",
     "text": [
      "0.8365787134596102\n"
     ]
    },
    {
     "data": {
      "text/plain": [
       "0.09983294349306979"
      ]
     },
     "execution_count": 19,
     "metadata": {},
     "output_type": "execute_result"
    }
   ],
   "source": [
    "model_path = os.path.join('../artifacts/','lgb_model.pkl')\n",
    "data_path = os.path.join('../artifacts/','cost_prediction.csv')\n",
    "p = Prediction(model_path,data_path)\n",
    "pred = p.prediction(X_transformed)\n",
    "print(r2_score(Y, pred))\n",
    "mean_absolute_percentage_error(Y, pred)\n"
   ]
  },
  {
   "cell_type": "code",
   "execution_count": 169,
   "metadata": {},
   "outputs": [
    {
     "name": "stdout",
     "output_type": "stream",
     "text": [
      "0.839258321843332\n"
     ]
    },
    {
     "data": {
      "text/plain": [
       "0.09878935246576806"
      ]
     },
     "execution_count": 169,
     "metadata": {},
     "output_type": "execute_result"
    }
   ],
   "source": [
    "model_path = os.path.join('../artifacts_final/','xgb_model.pkl')\n",
    "p = Prediction(model_path,data_path)\n",
    "pred1 = p.prediction(X_transformed.drop('year',axis=1))\n",
    "print(r2_score(Y, pred1))\n",
    "mean_absolute_percentage_error(Y, pred1)\n",
    "# 0.8390565060833868\n",
    "# 0.0996345033167226"
   ]
  },
  {
   "cell_type": "code",
   "execution_count": 29,
   "metadata": {},
   "outputs": [
    {
     "name": "stdout",
     "output_type": "stream",
     "text": [
      "predicted mean:cost    0.343478\n",
      "dtype: float64\n",
      "actual mean:0.3437584408345175\n"
     ]
    },
    {
     "data": {
      "image/png": "[encoded data removed]",
      "text/plain": [
       "<Figure size 720x720 with 1 Axes>"
      ]
     },
     "metadata": {
      "needs_background": "light"
     },
     "output_type": "display_data"
    },
    {
     "data": {
      "image/png": "[encoded data removed]",
      "text/plain": [
       "<Figure size 432x288 with 1 Axes>"
      ]
     },
     "metadata": {
      "needs_background": "light"
     },
     "output_type": "display_data"
    },
    {
     "name": "stdout",
     "output_type": "stream",
     "text": [
      "max actual 1.728\n",
      "max prediction cost    1.405244\n",
      "dtype: float64\n"
     ]
    }
   ],
   "source": [
    "#sklearnstackedregression model to be scored\n",
    "\n",
    "# model_path = os.path.join('../artifacts_final/','stacked_model_final.pkl')\n",
    "# p = Prediction(model_path,data_path)\n",
    "# pred2 = p.prediction(X_transformed)\n",
    "# print(r2_score(Y, pred2))\n",
    "# mean_absolute_percentage_error(Y, pred2)\n",
    "from matplotlib import pyplot as plt\n",
    "print(f'predicted mean:{pred2.mean()}')\n",
    "print(f'actual mean:{Y.mean()}')\n",
    "r_squared = r2_score(Y,pred)\n",
    "# print(r_squared)\n",
    "plt.figure(figsize=(10,10))\n",
    "plt.scatter(Y,pred2)\n",
    "plt.xlabel('Actual values')\n",
    "plt.ylabel('Predicted values')\n",
    "\n",
    "plt.plot(np.unique(Y), np.poly1d(np.polyfit(Y, np.array(pred2).reshape(-1), 1))(np.unique(Y)))\n",
    "\n",
    "plt.text(0.6, 0.5, 'R-squared = %0.2f' % r_squared)\n",
    "plt.show()\n",
    "def plotGraph(y_test,y_pred,regressorName):\n",
    "    if max(Y) >= max(pred2.values):\n",
    "        my_range = int(max(y_test))\n",
    "    else:\n",
    "        my_range = int(max(pred2))\n",
    "    plt.scatter(range(len(Y)), Y, color='blue')\n",
    "    plt.scatter(range(len(Y)), pred2, color='red')\n",
    "    plt.title(regressorName)\n",
    "    plt.show()\n",
    "    return\n",
    "\n",
    "\n",
    "# y_test = range(10)\n",
    "# y_pred = np.random.randint(0, 10, 10)\n",
    "\n",
    "plotGraph(Y, pred2, \"actual vs. predicted\")\n",
    "print(f'max actual {Y.max()}')\n",
    "print(f'max prediction {pred2.max()}')\n",
    "\n",
    "# 0.8425403257261154\n",
    "# 0.09689199813549092"
   ]
  },
  {
   "cell_type": "code",
   "execution_count": 89,
   "metadata": {},
   "outputs": [
    {
     "name": "stdout",
     "output_type": "stream",
     "text": [
      "0.8379781868181323\n"
     ]
    },
    {
     "data": {
      "text/plain": [
       "0.10212929958204307"
      ]
     },
     "execution_count": 89,
     "metadata": {},
     "output_type": "execute_result"
    }
   ],
   "source": [
    "# model_path = os.path.join('../artifacts/','rf_model.pkl')\n",
    "# p = Prediction(model_path,data_path)\n",
    "# pred3 = p.prediction(X_transformed)\n",
    "# print(r2_score(Y, pred3))\n",
    "# mean_absolute_percentage_error(Y, pred3)"
   ]
  },
  {
   "cell_type": "code",
   "execution_count": 43,
   "metadata": {},
   "outputs": [
    {
     "ename": "TypeError",
     "evalue": "cdf() missing 1 required positional argument: 'x'",
     "output_type": "error",
     "traceback": [
      "\u001b[1;31m---------------------------------------------------------------------------\u001b[0m",
      "\u001b[1;31mTypeError\u001b[0m                                 Traceback (most recent call last)",
      "\u001b[1;32m<ipython-input-43-261a6df4065e>\u001b[0m in \u001b[0;36m<module>\u001b[1;34m\u001b[0m\n\u001b[0;32m      4\u001b[0m \u001b[1;32mfrom\u001b[0m \u001b[0mscipy\u001b[0m\u001b[1;33m.\u001b[0m\u001b[0mstats\u001b[0m \u001b[1;32mimport\u001b[0m \u001b[0muniform\u001b[0m \u001b[1;32mas\u001b[0m \u001b[0msp_uniform\u001b[0m\u001b[1;33m\u001b[0m\u001b[1;33m\u001b[0m\u001b[0m\n\u001b[0;32m      5\u001b[0m \u001b[0ms\u001b[0m \u001b[1;33m=\u001b[0m \u001b[0msp_uniform\u001b[0m\u001b[1;33m(\u001b[0m\u001b[0mloc\u001b[0m\u001b[1;33m=\u001b[0m\u001b[1;36m0.4\u001b[0m\u001b[1;33m,\u001b[0m \u001b[0mscale\u001b[0m\u001b[1;33m=\u001b[0m\u001b[1;36m0.8\u001b[0m\u001b[1;33m)\u001b[0m\u001b[1;33m\u001b[0m\u001b[1;33m\u001b[0m\u001b[0m\n\u001b[1;32m----> 6\u001b[1;33m \u001b[0ms\u001b[0m\u001b[1;33m.\u001b[0m\u001b[0mcdf\u001b[0m\u001b[1;33m(\u001b[0m\u001b[1;33m)\u001b[0m\u001b[1;33m\u001b[0m\u001b[1;33m\u001b[0m\u001b[0m\n\u001b[0m",
      "\u001b[1;31mTypeError\u001b[0m: cdf() missing 1 required positional argument: 'x'"
     ]
    }
   ],
   "source": [
    "0.8425403257261154  #sklearnstackedregression model(3 models with full data train)\n",
    "0.09689199813549092\n",
    "\n",
    "0.8413238858959429  #sklearnstackedregression model\n",
    "0.09787482596440249\n",
    "\n",
    "0.8408703268652307 #2/3 of xgb,1/3 of lgb\n",
    "0.09871235189081189\n",
    "\n",
    "\n",
    "from scipy.stats import randint as sp_randint\n",
    "from scipy.stats import uniform as sp_uniform\n",
    "s = sp_uniform(loc=0.4, scale=0.8)\n",
    "s.cdf()"
   ]
  },
  {
   "cell_type": "markdown",
   "metadata": {},
   "source": [
    "##                                                           Q&A"
   ]
  }
 ],
 "metadata": {
  "kernelspec": {
   "display_name": "Python 3.8.8 ('base')",
   "language": "python",
   "name": "python3"
  },
  "language_info": {
   "codemirror_mode": {
    "name": "ipython",
    "version": 3
   },
   "file_extension": ".py",
   "mimetype": "text/x-python",
   "name": "python",
   "nbconvert_exporter": "python",
   "pygments_lexer": "ipython3",
   "version": "3.8.8"
  },
  "orig_nbformat": 4,
  "vscode": {
   "interpreter": {
    "hash": "ad2bdc8ecc057115af97d19610ffacc2b4e99fae6737bb82f5d7fb13d2f2c186"
   }
  }
 },
 "nbformat": 4,
 "nbformat_minor": 2
}
