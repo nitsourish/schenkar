{
 "cells": [
  {
   "cell_type": "markdown",
   "metadata": {},
   "source": [
    "##  This NoteBook contains score improvement for data preparation feature engineering, model training/validation for ML Task of DB Schenker\n",
    "\n",
    "### Improvement strategy\n",
    " - Feature Engg.- Create richer features around lat-lon features and dates\n",
    " - Reduce overfitting issue\n",
    " - Create different models and lastly stacking\n",
    "\n",
    "### Following are the assumptions\n",
    "\n",
    "- As I don't know the normalization method of weight, loading_meters, and cost, I used the features as it is w/o any transformation\n",
    "- The final cost_prediction.csv file contains the predictions with same order w.r.t. the provided test_data.csv\n",
    "- skipping EDA here as already done and focussing on the implementation\n",
    "\n",
    "##### Validation data R2 score: 0.8425"
   ]
  },
  {
   "cell_type": "markdown",
   "metadata": {},
   "source": [
    "#### Adding imports"
   ]
  },
  {
   "cell_type": "code",
   "execution_count": 31,
   "metadata": {},
   "outputs": [],
   "source": [
    "import os\n",
    "import math\n",
    "import pickle\n",
    "import sys\n",
    "import numpy as np\n",
    "import pandas as pd\n",
    "from sklearn.base import BaseEstimator, RegressorMixin, TransformerMixin\n",
    "from sklearn.metrics import mean_squared_error\n",
    "from sklearn.model_selection import train_test_split\n",
    "from sklearn.model_selection import cross_val_score, StratifiedKFold\n",
    "from xgboost import plot_importance\n",
    "import pickle\n",
    "import xgboost as xgb\n",
    "import lightgbm as lgb\n",
    "from sklearn.metrics import r2_score,mean_squared_error,mean_absolute_percentage_error\n",
    "from sklearn.model_selection import train_test_split,cross_val_score,cross_val_predict,cross_validate,GridSearchCV,RandomizedSearchCV\n",
    "from xgboost import plot_importance\n",
    "from sklearn.preprocessing import OneHotEncoder\n",
    "from sklearn.preprocessing import RobustScaler, StandardScaler,PowerTransformer\n",
    "from sklearn.metrics import mean_absolute_error\n",
    "from xgboost import XGBRegressor\n",
    "import matplotlib.pyplot as plt\n",
    "from vincenty import vincenty\n",
    "from datetime import datetime\n",
    "from sklearn.ensemble import RandomForestRegressor\n",
    "import requests\n",
    "from shapely.geometry import mapping, shape\n",
    "from shapely.prepared import prep\n",
    "from shapely.geometry import Point\n",
    "from lightgbm import LGBMRegressor\n",
    "from sklearn.ensemble import StackingRegressor\n",
    "from sklearn.linear_model import LinearRegression\n",
    "from scipy.stats import randint as sp_randint\n",
    "from scipy.stats import uniform as sp_uniform"
   ]
  },
  {
   "cell_type": "markdown",
   "metadata": {},
   "source": [
    "## Loading data frame and having a look at the data and checking for any missing value"
   ]
  },
  {
   "cell_type": "code",
   "execution_count": 3,
   "metadata": {},
   "outputs": [
    {
     "data": {
      "text/html": [
       "<div>\n",
       "<style scoped>\n",
       "    .dataframe tbody tr th:only-of-type {\n",
       "        vertical-align: middle;\n",
       "    }\n",
       "\n",
       "    .dataframe tbody tr th {\n",
       "        vertical-align: top;\n",
       "    }\n",
       "\n",
       "    .dataframe thead th {\n",
       "        text-align: right;\n",
       "    }\n",
       "</style>\n",
       "<table border=\"1\" class=\"dataframe\">\n",
       "  <thead>\n",
       "    <tr style=\"text-align: right;\">\n",
       "      <th></th>\n",
       "      <th>origin_latitude</th>\n",
       "      <th>origin_longitude</th>\n",
       "      <th>destination_latitude</th>\n",
       "      <th>destination_longitude</th>\n",
       "      <th>weight</th>\n",
       "      <th>loading_meters</th>\n",
       "      <th>is_adr</th>\n",
       "      <th>shipping_date</th>\n",
       "      <th>cost</th>\n",
       "    </tr>\n",
       "  </thead>\n",
       "  <tbody>\n",
       "    <tr>\n",
       "      <th>0</th>\n",
       "      <td>27.22</td>\n",
       "      <td>105.59</td>\n",
       "      <td>26.91</td>\n",
       "      <td>108.67</td>\n",
       "      <td>0.513</td>\n",
       "      <td>0.195</td>\n",
       "      <td>True</td>\n",
       "      <td>2017-04-24</td>\n",
       "      <td>0.247</td>\n",
       "    </tr>\n",
       "    <tr>\n",
       "      <th>1</th>\n",
       "      <td>25.00</td>\n",
       "      <td>109.79</td>\n",
       "      <td>25.34</td>\n",
       "      <td>108.59</td>\n",
       "      <td>0.484</td>\n",
       "      <td>0.195</td>\n",
       "      <td>True</td>\n",
       "      <td>2017-07-27</td>\n",
       "      <td>0.248</td>\n",
       "    </tr>\n",
       "    <tr>\n",
       "      <th>2</th>\n",
       "      <td>27.10</td>\n",
       "      <td>105.60</td>\n",
       "      <td>29.35</td>\n",
       "      <td>106.54</td>\n",
       "      <td>0.484</td>\n",
       "      <td>0.195</td>\n",
       "      <td>True</td>\n",
       "      <td>2017-02-03</td>\n",
       "      <td>0.276</td>\n",
       "    </tr>\n",
       "    <tr>\n",
       "      <th>3</th>\n",
       "      <td>24.72</td>\n",
       "      <td>106.25</td>\n",
       "      <td>23.43</td>\n",
       "      <td>109.78</td>\n",
       "      <td>0.504</td>\n",
       "      <td>0.195</td>\n",
       "      <td>True</td>\n",
       "      <td>2017-04-03</td>\n",
       "      <td>0.276</td>\n",
       "    </tr>\n",
       "    <tr>\n",
       "      <th>4</th>\n",
       "      <td>22.33</td>\n",
       "      <td>108.37</td>\n",
       "      <td>29.38</td>\n",
       "      <td>111.50</td>\n",
       "      <td>0.484</td>\n",
       "      <td>0.195</td>\n",
       "      <td>True</td>\n",
       "      <td>2018-11-08</td>\n",
       "      <td>0.553</td>\n",
       "    </tr>\n",
       "  </tbody>\n",
       "</table>\n",
       "</div>"
      ],
      "text/plain": [
       "   origin_latitude  origin_longitude  destination_latitude  \\\n",
       "0            27.22            105.59                 26.91   \n",
       "1            25.00            109.79                 25.34   \n",
       "2            27.10            105.60                 29.35   \n",
       "3            24.72            106.25                 23.43   \n",
       "4            22.33            108.37                 29.38   \n",
       "\n",
       "   destination_longitude  weight  loading_meters  is_adr shipping_date   cost  \n",
       "0                 108.67   0.513           0.195    True    2017-04-24  0.247  \n",
       "1                 108.59   0.484           0.195    True    2017-07-27  0.248  \n",
       "2                 106.54   0.484           0.195    True    2017-02-03  0.276  \n",
       "3                 109.78   0.504           0.195    True    2017-04-03  0.276  \n",
       "4                 111.50   0.484           0.195    True    2018-11-08  0.553  "
      ]
     },
     "metadata": {},
     "output_type": "display_data"
    },
    {
     "data": {
      "text/html": [
       "<div>\n",
       "<style scoped>\n",
       "    .dataframe tbody tr th:only-of-type {\n",
       "        vertical-align: middle;\n",
       "    }\n",
       "\n",
       "    .dataframe tbody tr th {\n",
       "        vertical-align: top;\n",
       "    }\n",
       "\n",
       "    .dataframe thead th {\n",
       "        text-align: right;\n",
       "    }\n",
       "</style>\n",
       "<table border=\"1\" class=\"dataframe\">\n",
       "  <thead>\n",
       "    <tr style=\"text-align: right;\">\n",
       "      <th></th>\n",
       "      <th>origin_latitude</th>\n",
       "      <th>origin_longitude</th>\n",
       "      <th>destination_latitude</th>\n",
       "      <th>destination_longitude</th>\n",
       "      <th>weight</th>\n",
       "      <th>loading_meters</th>\n",
       "      <th>cost</th>\n",
       "    </tr>\n",
       "  </thead>\n",
       "  <tbody>\n",
       "    <tr>\n",
       "      <th>count</th>\n",
       "      <td>251155.000000</td>\n",
       "      <td>251155.000000</td>\n",
       "      <td>251155.000000</td>\n",
       "      <td>251155.000000</td>\n",
       "      <td>251155.000000</td>\n",
       "      <td>251155.000000</td>\n",
       "      <td>251155.000000</td>\n",
       "    </tr>\n",
       "    <tr>\n",
       "      <th>mean</th>\n",
       "      <td>25.698019</td>\n",
       "      <td>108.928965</td>\n",
       "      <td>25.583530</td>\n",
       "      <td>108.969093</td>\n",
       "      <td>0.405943</td>\n",
       "      <td>0.167496</td>\n",
       "      <td>0.343925</td>\n",
       "    </tr>\n",
       "    <tr>\n",
       "      <th>std</th>\n",
       "      <td>1.783849</td>\n",
       "      <td>2.086520</td>\n",
       "      <td>1.983605</td>\n",
       "      <td>2.297844</td>\n",
       "      <td>0.127647</td>\n",
       "      <td>0.063195</td>\n",
       "      <td>0.129915</td>\n",
       "    </tr>\n",
       "    <tr>\n",
       "      <th>min</th>\n",
       "      <td>21.710000</td>\n",
       "      <td>102.970000</td>\n",
       "      <td>21.650000</td>\n",
       "      <td>103.000000</td>\n",
       "      <td>0.050000</td>\n",
       "      <td>0.000000</td>\n",
       "      <td>0.017000</td>\n",
       "    </tr>\n",
       "    <tr>\n",
       "      <th>25%</th>\n",
       "      <td>24.310000</td>\n",
       "      <td>107.340000</td>\n",
       "      <td>23.780000</td>\n",
       "      <td>107.180000</td>\n",
       "      <td>0.328000</td>\n",
       "      <td>0.195000</td>\n",
       "      <td>0.249000</td>\n",
       "    </tr>\n",
       "    <tr>\n",
       "      <th>50%</th>\n",
       "      <td>25.650000</td>\n",
       "      <td>108.890000</td>\n",
       "      <td>25.640000</td>\n",
       "      <td>109.400000</td>\n",
       "      <td>0.475000</td>\n",
       "      <td>0.195000</td>\n",
       "      <td>0.333000</td>\n",
       "    </tr>\n",
       "    <tr>\n",
       "      <th>75%</th>\n",
       "      <td>26.910000</td>\n",
       "      <td>110.460000</td>\n",
       "      <td>27.170000</td>\n",
       "      <td>110.750000</td>\n",
       "      <td>0.490000</td>\n",
       "      <td>0.195000</td>\n",
       "      <td>0.415000</td>\n",
       "    </tr>\n",
       "    <tr>\n",
       "      <th>max</th>\n",
       "      <td>30.220000</td>\n",
       "      <td>114.210000</td>\n",
       "      <td>30.400000</td>\n",
       "      <td>114.250000</td>\n",
       "      <td>1.000000</td>\n",
       "      <td>0.995000</td>\n",
       "      <td>2.349000</td>\n",
       "    </tr>\n",
       "  </tbody>\n",
       "</table>\n",
       "</div>"
      ],
      "text/plain": [
       "       origin_latitude  origin_longitude  destination_latitude  \\\n",
       "count    251155.000000     251155.000000         251155.000000   \n",
       "mean         25.698019        108.928965             25.583530   \n",
       "std           1.783849          2.086520              1.983605   \n",
       "min          21.710000        102.970000             21.650000   \n",
       "25%          24.310000        107.340000             23.780000   \n",
       "50%          25.650000        108.890000             25.640000   \n",
       "75%          26.910000        110.460000             27.170000   \n",
       "max          30.220000        114.210000             30.400000   \n",
       "\n",
       "       destination_longitude         weight  loading_meters           cost  \n",
       "count          251155.000000  251155.000000   251155.000000  251155.000000  \n",
       "mean              108.969093       0.405943        0.167496       0.343925  \n",
       "std                 2.297844       0.127647        0.063195       0.129915  \n",
       "min               103.000000       0.050000        0.000000       0.017000  \n",
       "25%               107.180000       0.328000        0.195000       0.249000  \n",
       "50%               109.400000       0.475000        0.195000       0.333000  \n",
       "75%               110.750000       0.490000        0.195000       0.415000  \n",
       "max               114.250000       1.000000        0.995000       2.349000  "
      ]
     },
     "execution_count": 3,
     "metadata": {},
     "output_type": "execute_result"
    }
   ],
   "source": [
    "data_frame = pd.read_csv('../data/train_data.csv',sep=';', parse_dates=['shipping_date'])\n",
    "data_frame['shipping_date'] = pd.to_datetime(data_frame['shipping_date'])\n",
    "display(data_frame.head())\n",
    "data_frame.describe()"
   ]
  },
  {
   "cell_type": "code",
   "execution_count": 4,
   "metadata": {},
   "outputs": [
    {
     "name": "stdout",
     "output_type": "stream",
     "text": [
      "<class 'pandas.core.frame.DataFrame'>\n",
      "RangeIndex: 251155 entries, 0 to 251154\n",
      "Data columns (total 9 columns):\n",
      " #   Column                 Non-Null Count   Dtype         \n",
      "---  ------                 --------------   -----         \n",
      " 0   origin_latitude        251155 non-null  float64       \n",
      " 1   origin_longitude       251155 non-null  float64       \n",
      " 2   destination_latitude   251155 non-null  float64       \n",
      " 3   destination_longitude  251155 non-null  float64       \n",
      " 4   weight                 251155 non-null  float64       \n",
      " 5   loading_meters         251155 non-null  float64       \n",
      " 6   is_adr                 251155 non-null  bool          \n",
      " 7   shipping_date          251155 non-null  datetime64[ns]\n",
      " 8   cost                   251155 non-null  float64       \n",
      "dtypes: bool(1), datetime64[ns](1), float64(7)\n",
      "memory usage: 15.6 MB\n"
     ]
    },
    {
     "data": {
      "text/plain": [
       "None"
      ]
     },
     "metadata": {},
     "output_type": "display_data"
    },
    {
     "data": {
      "text/plain": [
       "True    251155\n",
       "Name: is_adr, dtype: int64"
      ]
     },
     "execution_count": 4,
     "metadata": {},
     "output_type": "execute_result"
    }
   ],
   "source": [
    "display(data_frame.info())\n",
    "data_frame.is_adr.value_counts()"
   ]
  },
  {
   "cell_type": "markdown",
   "metadata": {},
   "source": [
    "### There in no requirement of missing value treatment\n",
    "### Only one class for is_adr categorical variable, so the feature is not useful"
   ]
  },
  {
   "cell_type": "code",
   "execution_count": 5,
   "metadata": {},
   "outputs": [],
   "source": [
    "target = 'cost'\n",
    "lat_1,lon_1,lat_2,lon_2 = 'origin_latitude','origin_longitude','destination_latitude','destination_longitude'\n",
    "X = data_frame.drop([target],axis=1)\n",
    "Y = data_frame[target]"
   ]
  },
  {
   "cell_type": "markdown",
   "metadata": {},
   "source": [
    "## Creating a class to first create new features for ML training- Feature Engg.\n",
    "\n",
    "### Following feature might usefull for the model:\n",
    " - From start and end lat-lon a few distence features,central tendency and directional features\n",
    " - Identify country and inter country movement\n",
    " - A few date-time/time series features(week-day,month,count_day etc.) from 'shipping_date'to capture effect of possible seasonality \n",
    "\n",
    "### creating a class here with a few methods, so that it can be used as an single object during inference time and also have inheritence property"
   ]
  },
  {
   "cell_type": "code",
   "execution_count": 41,
   "metadata": {},
   "outputs": [],
   "source": [
    "class FeatenggTransformer(BaseEstimator, RegressorMixin, TransformerMixin):\n",
    "\n",
    "    def transform(self, X):\n",
    "        \n",
    "        \"\"\"This pipeline transforms the dataframe to the desired\n",
    "         features and shape\"\"\"\n",
    "\n",
    "        X = self.add_date_feature(X)\n",
    "        X = self.add_travel_features(X)\n",
    "        X = self.get_country_feats(X)\n",
    "        X = self.drop_unrequired_fields(X)\n",
    "        return X\n",
    "\n",
    "    def add_travel_features(self, X):\n",
    "\n",
    "        \"\"\"This Method creates distance features and directional/angular features(bearing)\"\"\"\n",
    "        \n",
    "        X['abs_diff_longitude'] = (X[lon_2] - X[lon_1]).abs()\n",
    "        X['abs_diff_latitude'] = (X[lat_2] - X[lat_1]).abs()\n",
    "        X['Vincenty_distance'] = X.apply(lambda x: vincenty((x[lat_1], \\\n",
    "            x[lon_1]), (x[lat_2], x[lon_2])\\\n",
    "                ,miles=True), axis = 1)\n",
    "\n",
    "        # bearing (in degrees converted to radians)\n",
    "        def bearing_array(lat1, lng1, lat2, lng2):\n",
    "            AVG_EARTH_RADIUS = 6371  # in km\n",
    "            lng_delta_rad = np.radians(lng2 - lng1)\n",
    "            lat1, lng1, lat2, lng2 = map(np.radians, (lat1, lng1, lat2, lng2))\n",
    "            y = np.sin(lng_delta_rad) * np.cos(lat2)\n",
    "            x = np.cos(lat1) * np.sin(lat2) - np.sin(lat1) * np.cos(lat2) * np.cos(lng_delta_rad)\n",
    "            return np.degrees(np.arctan2(y, x))\n",
    "\n",
    "        X['Bearing'] = bearing_array(X[lat_1], \\\n",
    "                    X[lon_1], X[lat_2], X[lon_2])\n",
    "        X.loc[:, 'center_latitude'] = (X[lat_1].values + X[lat_2].values) / 2\n",
    "        X.loc[:, 'center_longitude'] = (X[lon_1].values + X[lon_2].values) / 2\n",
    "        return X\n",
    "\n",
    "    def add_date_feature(self, X):\n",
    "        \n",
    "        \"\"\"This Method creates time series/date features\"\"\"\n",
    "        \n",
    "        ref_date = '2017-01-01'\n",
    "        X['weekday'] = X['shipping_date'].dt.day_of_week\n",
    "        X[\"is_weekend\"] = np.where(X[\"weekday\"] < 5, 0, 1)\n",
    "        X['week_in_month'] = pd.to_numeric(X['shipping_date'].dt.day/7).\\\n",
    "        apply(lambda x: math.ceil(x))\n",
    "        X['month'] = X['shipping_date'].dt.month\n",
    "        X['day_count'] = (X['shipping_date'] - datetime.strptime(ref_date, \"%Y-%m-%d\"))/np.timedelta64(1, 'D')\n",
    "        return X\n",
    "\n",
    "    def get_country_feats(self, X):\n",
    "        data = requests.get(\"https://raw.githubusercontent.com/datasets/geo-countries/master/data/countries.geojson\").json()\n",
    "        countries = {}\n",
    "        for feature in data[\"features\"]:\n",
    "            geom = feature[\"geometry\"]\n",
    "            country = feature[\"properties\"][\"ADMIN\"]\n",
    "            countries[country] = prep(shape(geom))\n",
    "        def get_country(row):\n",
    "            point = Point(row[0], row[1])\n",
    "            for country, geom in countries.items():\n",
    "                if geom.contains(point):\n",
    "                    return country\n",
    "            return \"unknown\"\n",
    "        X['destn_country'] = X[[lon_2,lat_2]].apply(get_country,axis=1)\n",
    "        X['origin_country'] = X[[lon_1,lat_1]].apply(get_country,axis=1)\n",
    "        X['diff_country'] = np.where(X['origin_country'] == X['destn_country'],0,1) \n",
    "        return X   \n",
    "\n",
    "    def drop_unrequired_fields(self, X):\n",
    "\n",
    "        \"\"\"Method for dropping unrequired fields\"\"\"\n",
    "\n",
    "        return X.drop(['shipping_date','is_adr',lat_1,lon_1,lat_2,lon_2], axis=1)\n",
    "\n"
   ]
  },
  {
   "cell_type": "code",
   "execution_count": 7,
   "metadata": {},
   "outputs": [
    {
     "data": {
      "text/html": [
       "<div>\n",
       "<style scoped>\n",
       "    .dataframe tbody tr th:only-of-type {\n",
       "        vertical-align: middle;\n",
       "    }\n",
       "\n",
       "    .dataframe tbody tr th {\n",
       "        vertical-align: top;\n",
       "    }\n",
       "\n",
       "    .dataframe thead th {\n",
       "        text-align: right;\n",
       "    }\n",
       "</style>\n",
       "<table border=\"1\" class=\"dataframe\">\n",
       "  <thead>\n",
       "    <tr style=\"text-align: right;\">\n",
       "      <th></th>\n",
       "      <th>weight</th>\n",
       "      <th>loading_meters</th>\n",
       "      <th>weekday</th>\n",
       "      <th>is_weekend</th>\n",
       "      <th>week_in_month</th>\n",
       "      <th>month</th>\n",
       "      <th>day_count</th>\n",
       "      <th>abs_diff_longitude</th>\n",
       "      <th>abs_diff_latitude</th>\n",
       "      <th>Vincenty_distance</th>\n",
       "      <th>Bearing</th>\n",
       "      <th>center_latitude</th>\n",
       "      <th>center_longitude</th>\n",
       "      <th>destn_country</th>\n",
       "      <th>origin_country</th>\n",
       "      <th>diff_country</th>\n",
       "    </tr>\n",
       "  </thead>\n",
       "  <tbody>\n",
       "    <tr>\n",
       "      <th>0</th>\n",
       "      <td>0.513</td>\n",
       "      <td>0.195</td>\n",
       "      <td>0</td>\n",
       "      <td>0</td>\n",
       "      <td>4</td>\n",
       "      <td>4</td>\n",
       "      <td>113.0</td>\n",
       "      <td>3.08</td>\n",
       "      <td>0.31</td>\n",
       "      <td>191.037834</td>\n",
       "      <td>95.746206</td>\n",
       "      <td>27.065</td>\n",
       "      <td>107.130</td>\n",
       "      <td>China</td>\n",
       "      <td>China</td>\n",
       "      <td>0</td>\n",
       "    </tr>\n",
       "    <tr>\n",
       "      <th>1</th>\n",
       "      <td>0.484</td>\n",
       "      <td>0.195</td>\n",
       "      <td>3</td>\n",
       "      <td>0</td>\n",
       "      <td>4</td>\n",
       "      <td>7</td>\n",
       "      <td>207.0</td>\n",
       "      <td>1.20</td>\n",
       "      <td>0.34</td>\n",
       "      <td>78.727542</td>\n",
       "      <td>-72.362269</td>\n",
       "      <td>25.170</td>\n",
       "      <td>109.190</td>\n",
       "      <td>China</td>\n",
       "      <td>China</td>\n",
       "      <td>0</td>\n",
       "    </tr>\n",
       "    <tr>\n",
       "      <th>2</th>\n",
       "      <td>0.484</td>\n",
       "      <td>0.195</td>\n",
       "      <td>4</td>\n",
       "      <td>0</td>\n",
       "      <td>1</td>\n",
       "      <td>2</td>\n",
       "      <td>33.0</td>\n",
       "      <td>0.94</td>\n",
       "      <td>2.25</td>\n",
       "      <td>165.204863</td>\n",
       "      <td>19.988087</td>\n",
       "      <td>28.225</td>\n",
       "      <td>106.070</td>\n",
       "      <td>China</td>\n",
       "      <td>China</td>\n",
       "      <td>0</td>\n",
       "    </tr>\n",
       "    <tr>\n",
       "      <th>3</th>\n",
       "      <td>0.504</td>\n",
       "      <td>0.195</td>\n",
       "      <td>0</td>\n",
       "      <td>0</td>\n",
       "      <td>1</td>\n",
       "      <td>4</td>\n",
       "      <td>92.0</td>\n",
       "      <td>3.53</td>\n",
       "      <td>1.29</td>\n",
       "      <td>240.063491</td>\n",
       "      <td>111.087172</td>\n",
       "      <td>24.075</td>\n",
       "      <td>108.015</td>\n",
       "      <td>China</td>\n",
       "      <td>China</td>\n",
       "      <td>0</td>\n",
       "    </tr>\n",
       "    <tr>\n",
       "      <th>4</th>\n",
       "      <td>0.484</td>\n",
       "      <td>0.195</td>\n",
       "      <td>3</td>\n",
       "      <td>0</td>\n",
       "      <td>2</td>\n",
       "      <td>11</td>\n",
       "      <td>676.0</td>\n",
       "      <td>3.13</td>\n",
       "      <td>7.05</td>\n",
       "      <td>522.933371</td>\n",
       "      <td>21.111657</td>\n",
       "      <td>25.855</td>\n",
       "      <td>109.935</td>\n",
       "      <td>China</td>\n",
       "      <td>China</td>\n",
       "      <td>0</td>\n",
       "    </tr>\n",
       "  </tbody>\n",
       "</table>\n",
       "</div>"
      ],
      "text/plain": [
       "   weight  loading_meters  weekday  is_weekend  week_in_month  month  \\\n",
       "0   0.513           0.195        0           0              4      4   \n",
       "1   0.484           0.195        3           0              4      7   \n",
       "2   0.484           0.195        4           0              1      2   \n",
       "3   0.504           0.195        0           0              1      4   \n",
       "4   0.484           0.195        3           0              2     11   \n",
       "\n",
       "   day_count  abs_diff_longitude  abs_diff_latitude  Vincenty_distance  \\\n",
       "0      113.0                3.08               0.31         191.037834   \n",
       "1      207.0                1.20               0.34          78.727542   \n",
       "2       33.0                0.94               2.25         165.204863   \n",
       "3       92.0                3.53               1.29         240.063491   \n",
       "4      676.0                3.13               7.05         522.933371   \n",
       "\n",
       "      Bearing  center_latitude  center_longitude destn_country origin_country  \\\n",
       "0   95.746206           27.065           107.130         China          China   \n",
       "1  -72.362269           25.170           109.190         China          China   \n",
       "2   19.988087           28.225           106.070         China          China   \n",
       "3  111.087172           24.075           108.015         China          China   \n",
       "4   21.111657           25.855           109.935         China          China   \n",
       "\n",
       "   diff_country  \n",
       "0             0  \n",
       "1             0  \n",
       "2             0  \n",
       "3             0  \n",
       "4             0  "
      ]
     },
     "execution_count": 7,
     "metadata": {},
     "output_type": "execute_result"
    }
   ],
   "source": [
    "fet =  FeatenggTransformer()\n",
    "X = fet.transform(X)\n",
    "X.head()"
   ]
  },
  {
   "cell_type": "markdown",
   "metadata": {},
   "source": [
    "## Feature Transformation\n",
    "\n",
    "- A) One-Hot Encoding: For these categorical variables there no definite ordinal relationship exists,so the integer encoding(LabelEncoder/LabelBinarizer) is not enough. "
   ]
  },
  {
   "cell_type": "code",
   "execution_count": 44,
   "metadata": {},
   "outputs": [
    {
     "name": "stdout",
     "output_type": "stream",
     "text": [
      "['weight', 'loading_meters', 'day_count', 'abs_diff_longitude', 'abs_diff_latitude', 'Vincenty_distance', 'Bearing', 'center_latitude', 'center_longitude', 'diff_country']\n"
     ]
    }
   ],
   "source": [
    "#Segregate Categorical and Numerical features\n",
    "\n",
    "cat_cols = ['week_in_month', 'weekday', 'is_weekend', 'month','destn_country','origin_country']\n",
    "num_cols = [col for col in list(X.columns) if col not in cat_cols]\n",
    "print(num_cols)"
   ]
  },
  {
   "cell_type": "code",
   "execution_count": 45,
   "metadata": {},
   "outputs": [],
   "source": [
    "class FeatureTransformer(BaseEstimator, RegressorMixin, TransformerMixin):\n",
    "\n",
    "    \"\"\"This Class is for FeatureTransform\n",
    "        a) categorical feature encoding\n",
    "    \"\"\"\n",
    "    \n",
    "    def __init__(self,cat_cols,num_cols,path):\n",
    "        self.cat_cols,self.num_cols,self.path = cat_cols,num_cols,path\n",
    "        if not os.path.exists(self.path):\n",
    "            os.mkdir(self.path)\n",
    "    def transform(self, X):\n",
    "\n",
    "        \"\"\"This pipeline transforms the categorical features to One-Hot Encoded and scales the \n",
    "         features\"\"\"\n",
    "\n",
    "        X = self.encode_categorical(X)\n",
    "        return X\n",
    "\n",
    "    def encode_categorical(self, X):\n",
    "\n",
    "        \"\"\"This Method creates absolute difference features\n",
    "        and Serializes(pickle) the necessary objects for inference\"\"\"\n",
    "\n",
    "        ohe = OneHotEncoder(handle_unknown='ignore', sparse=False)\n",
    "        ohe.fit(X[self.cat_cols])\n",
    "        x_cat_df = pd.DataFrame(ohe.transform(X[self.cat_cols]))\n",
    "        x_cat_df.columns = ohe.get_feature_names_out(self.cat_cols)\n",
    "        X = pd.concat([X[num_cols],x_cat_df],axis=1)\n",
    "        with open(os.path.join(self.path,'ohe.pkl') ,'wb') as fout:\n",
    "            pickle.dump(ohe, fout)\n",
    "        return X\n",
    "        "
   ]
  },
  {
   "cell_type": "code",
   "execution_count": 46,
   "metadata": {},
   "outputs": [
    {
     "name": "stdout",
     "output_type": "stream",
     "text": [
      "(251155, 40)\n"
     ]
    }
   ],
   "source": [
    "ft = FeatureTransformer(cat_cols=cat_cols,num_cols=num_cols,path='../artifacts_final/')\n",
    "X_transformed = ft.transform(X)\n",
    "print(X_transformed.shape)"
   ]
  },
  {
   "cell_type": "markdown",
   "metadata": {},
   "source": [
    "\n",
    "### Before modelling let's explore interesting patterns/correlation between the numerical variables and cost"
   ]
  },
  {
   "cell_type": "code",
   "execution_count": 12,
   "metadata": {},
   "outputs": [
    {
     "data": {
      "text/plain": [
       "weight               -0.051613\n",
       "loading_meters        0.048427\n",
       "day_count             0.081131\n",
       "abs_diff_longitude    0.596514\n",
       "abs_diff_latitude     0.521753\n",
       "Vincenty_distance     0.781482\n",
       "Bearing              -0.005725\n",
       "center_latitude       0.077604\n",
       "center_longitude      0.029399\n",
       "diff_country          0.070505\n",
       "Name: cost, dtype: float64"
      ]
     },
     "metadata": {},
     "output_type": "display_data"
    },
    {
     "data": {
      "text/plain": [
       "<AxesSubplot:>"
      ]
     },
     "execution_count": 12,
     "metadata": {},
     "output_type": "execute_result"
    },
    {
     "data": {
      "image/png": "[encoded data removed]",
      "text/plain": [
       "<Figure size 720x360 with 1 Axes>"
      ]
     },
     "metadata": {
      "needs_background": "light"
     },
     "output_type": "display_data"
    }
   ],
   "source": [
    "plt.figure(figsize=(10,5))\n",
    "display(pd.concat([X_transformed[num_cols],Y],axis=1).corr()['cost'][:-1])\n",
    "pd.concat([X_transformed[num_cols],Y],axis=1).corr()['cost'][:-1].sort_values(ascending = False).plot(kind='bar')\n",
    "# plt.show()"
   ]
  },
  {
   "cell_type": "markdown",
   "metadata": {},
   "source": [
    "### As expected very high +ve correlation between cost and distance(as reflected for abs_diff_longitude and abs_diff_latitude as well).\n",
    "### Surprisingly there is no or little correlation for loading_meters and weight."
   ]
  },
  {
   "cell_type": "markdown",
   "metadata": {},
   "source": [
    "## Model Improvement and Fine Tuning"
   ]
  },
  {
   "cell_type": "markdown",
   "metadata": {},
   "source": [
    "#### Create different high performing base models\n",
    " - XGBoost Model optimization- through grid serach hyperparameter tuning(Boosting)\n",
    " - LightGBM Model optimization- through Random grid serach hyperparameter tuning(Boosting)\n",
    " - Random Forrest Model optimization- through Random grid serach hyperparameter tuning(Bagging)\n",
    "\n",
    "#### Model Stacking\n",
    " - Model Stacking Using StackingRegressor from sklearn with LinearRegression final_estimator\n",
    "\n",
    "#### As key evaluation metric, relevant for this business problem here we try to maximize R-Squared score.\n"
   ]
  },
  {
   "cell_type": "markdown",
   "metadata": {},
   "source": [
    "#### XGBoost Model optimization"
   ]
  },
  {
   "cell_type": "code",
   "execution_count": null,
   "metadata": {},
   "outputs": [],
   "source": [
    "model_path = '../artifacts_final'\n",
    "\n",
    "# Data split\n",
    "X_train, X_valid, y_train, y_valid = train_test_split(X_transformed, Y, test_size=0.2, random_state=101)\n",
    "\n",
    "#GridSearch\n",
    "paramGrid = {'max_depth': [5,6,7],'subsample': [0.7,0.8], 'colsample_bytree': [0.4,0.7,0.8], 'learning_rate':[0.05],'n_estimators':[300],\n",
    "              'seed':[100],'gamma':[0.05,0.01]}\n",
    "xgb_model = XGBRegressor(eval_metric = 'rmse',objective='reg:squarederror',early_stopping_rounds=30)\n",
    "GV = GridSearchCV(xgb_model, paramGrid, verbose=False,scoring='r2',\n",
    "         cv=3,refit=True)\n",
    "GV.fit(X_train, y_train,eval_set = [(X_valid, y_valid)])\n",
    "print(f' Best Model Parameter {GV.best_params_}')\n",
    "print(f' Best Model CV score {GV.best_score_}')\n",
    "print(f'selecting the best Hyperparameter tuned estimator with {GV.best_params_}')  \n",
    "xgb_model = GV.best_estimator_\n",
    "\n",
    "#Fitting the Best Model with controlled n_estimators\n",
    "xgb_model.n_estimators = 3000\n",
    "xgb_model.fit(X_train, y_train,verbose=2,\\\n",
    "            eval_set=[(X_train, y_train), (X_valid, y_valid)]) \n",
    "\n",
    "#Validation\n",
    "pred = xgb_model.predict(X_valid)\n",
    "print(r2_score(y_valid,pred))\n",
    "mean_absolute_percentage_error(y_valid,pred)\n",
    "with open(os.path.join(model_path,'xgb_model.pkl'), 'wb') as fout:\n",
    "    pickle.dump(xgb_model, fout)"
   ]
  },
  {
   "cell_type": "markdown",
   "metadata": {},
   "source": [
    "#### LightGBM Model optimization"
   ]
  },
  {
   "cell_type": "code",
   "execution_count": 25,
   "metadata": {},
   "outputs": [
    {
     "name": "stderr",
     "output_type": "stream",
     "text": [
      "c:\\ProgramData\\Anaconda3\\lib\\site-packages\\lightgbm\\sklearn.py:736: UserWarning: 'verbose' argument is deprecated and will be removed in a future release of LightGBM. Pass 'log_evaluation()' callback via 'callbacks' argument instead.\n",
      "  _log_warning(\"'verbose' argument is deprecated and will be removed in a future release of LightGBM. \"\n"
     ]
    },
    {
     "name": "stdout",
     "output_type": "stream",
     "text": [
      "[2]\ttraining's rmse: 0.113651\tvalid_1's rmse: 0.112988\n",
      "[4]\ttraining's rmse: 0.101621\tvalid_1's rmse: 0.100955\n",
      "[6]\ttraining's rmse: 0.0924282\tvalid_1's rmse: 0.0917371\n",
      "[8]\ttraining's rmse: 0.0852888\tvalid_1's rmse: 0.0846012\n",
      "[10]\ttraining's rmse: 0.0801301\tvalid_1's rmse: 0.0794424\n",
      "[12]\ttraining's rmse: 0.0762145\tvalid_1's rmse: 0.0755024\n",
      "[14]\ttraining's rmse: 0.0732644\tvalid_1's rmse: 0.0725831\n",
      "[16]\ttraining's rmse: 0.0710901\tvalid_1's rmse: 0.070388\n",
      "[18]\ttraining's rmse: 0.0694588\tvalid_1's rmse: 0.068742\n",
      "[20]\ttraining's rmse: 0.0681905\tvalid_1's rmse: 0.0674715\n",
      "[22]\ttraining's rmse: 0.0670913\tvalid_1's rmse: 0.0664341\n",
      "[24]\ttraining's rmse: 0.0661758\tvalid_1's rmse: 0.065517\n",
      "[26]\ttraining's rmse: 0.0654929\tvalid_1's rmse: 0.0648388\n",
      "[28]\ttraining's rmse: 0.064931\tvalid_1's rmse: 0.0642549\n",
      "[30]\ttraining's rmse: 0.0644783\tvalid_1's rmse: 0.0637979\n"
     ]
    }
   ],
   "source": [
    "#GridSearch\n",
    "param_test ={'num_leaves': sp_randint(6, 50), \n",
    "             'min_child_samples': sp_randint(100, 500), \n",
    "             'min_child_weight': [1e-5, 1e-3, 1e-2, 1e-1, 1, 1e1, 1e2, 1e3, 1e4],\n",
    "             'subsample': sp_uniform(loc=0.4, scale=0.8), \n",
    "             'colsample_bytree': sp_uniform(loc=0.4, scale=0.6),\n",
    "             'max_depth': [4,5,6,7],\n",
    "             'reg_alpha': [0, 1e-1, 1, 2, 5, 7, 10, 50, 100],\n",
    "             'reg_lambda': [0, 1e-1, 1, 5, 10, 20, 50, 100]}  \n",
    "n_HP_points_to_test = 50\n",
    "\n",
    "lgb_model = lgb.LGBMRegressor(random_state=314, silent=True, n_jobs=4, n_estimators=500,objective='rmse',early_stopping_rounds = 30,eval_metric = 'rmse')\n",
    "gs = RandomizedSearchCV(\n",
    "    estimator=lgb_model, param_distributions=param_test, \n",
    "    n_iter=n_HP_points_to_test,\n",
    "    scoring='r2',\n",
    "    cv=3,\n",
    "    refit=True,\n",
    "    random_state=314,\n",
    "    verbose=True)\n",
    "gs.fit(X_train, y_train,eval_set = [(X_valid, y_valid)])  \n",
    "lgb_model = gs.best_estimator_\n",
    "\n",
    "#Fitting the Best Model with controlled n_estimators\n",
    "lgb_model.n_estimators = 3000                           #2470\n",
    "lgb_model.fit(X_train, y_train,verbose=2,\\\n",
    "            eval_set=[(X_train, y_train), (X_valid, y_valid)]) \n",
    "\n",
    "#Validation            \n",
    "pred = lgb_model.predict(X_valid)\n",
    "# print(r2_score(y_test,pred))\n",
    "# mean_absolute_percentage_error(y_test,pred) \n",
    "with open(os.path.join(model_path,'lgb_model.pkl'), 'wb') as fout:\n",
    "    pickle.dump(lgb_model, fout)                      "
   ]
  },
  {
   "cell_type": "markdown",
   "metadata": {},
   "source": [
    "### Bagging"
   ]
  },
  {
   "cell_type": "code",
   "execution_count": 27,
   "metadata": {},
   "outputs": [],
   "source": [
    "#Random Forrest\n",
    "\n",
    "#Grid Search\n",
    "param_test ={'n_estimators': [int(x) for x in np.linspace(start = 50, stop = 120, num = 10)], 'max_features': ['auto', 'sqrt'], \n",
    " 'max_depth': [int(x) for x in np.linspace(6, 15, num = 3)], 'min_samples_split': [5, 10]}  \n",
    "n_HP_points_to_test = 20\n",
    "rf = RandomForestRegressor(random_state=314, criterion='squared_error',bootstrap=True)\n",
    "gs = RandomizedSearchCV(\n",
    "    estimator=rf, param_distributions=param_test, \n",
    "    n_iter=n_HP_points_to_test,\n",
    "    scoring='r2',\n",
    "    cv=3,\n",
    "    refit=True,\n",
    "    random_state=314,\n",
    "    verbose=True)\n",
    "gs.fit(X_train, y_train)  \n",
    "model = gs.best_estimator_\n",
    "\n",
    "#Fitting the Best Model with controlled n_estimator    \n",
    "rf.n_estimators = 200                          \n",
    "rf.fit(X_transformed, Y) \n",
    "\n",
    "with open(os.path.join(model_path,'rf_model.pkl'), 'wb') as fout:\n",
    "    pickle.dump(rf, fout)   "
   ]
  },
  {
   "cell_type": "markdown",
   "metadata": {},
   "source": [
    "### Model stacking"
   ]
  },
  {
   "cell_type": "code",
   "execution_count": 28,
   "metadata": {},
   "outputs": [
    {
     "name": "stderr",
     "output_type": "stream",
     "text": [
      "c:\\ProgramData\\Anaconda3\\lib\\site-packages\\lightgbm\\sklearn.py:598: UserWarning: 'silent' argument is deprecated and will be removed in a future release of LightGBM. Pass 'verbose' parameter via keyword arguments instead.\n",
      "  _log_warning(\"'silent' argument is deprecated and will be removed in a future release of LightGBM. \"\n",
      "C:\\Users\\sourish.dey\\AppData\\Roaming\\Python\\Python38\\site-packages\\sklearn\\ensemble\\_forest.py:416: FutureWarning: `max_features='auto'` has been deprecated in 1.1 and will be removed in 1.3. To keep the past behaviour, explicitly set `max_features=1.0` or remove this parameter as it is also the default value for RandomForestRegressors and ExtraTreesRegressors.\n",
      "  warn(\n",
      "c:\\ProgramData\\Anaconda3\\lib\\site-packages\\lightgbm\\sklearn.py:598: UserWarning: 'silent' argument is deprecated and will be removed in a future release of LightGBM. Pass 'verbose' parameter via keyword arguments instead.\n",
      "  _log_warning(\"'silent' argument is deprecated and will be removed in a future release of LightGBM. \"\n",
      "C:\\Users\\sourish.dey\\AppData\\Roaming\\Python\\Python38\\site-packages\\sklearn\\ensemble\\_forest.py:416: FutureWarning: `max_features='auto'` has been deprecated in 1.1 and will be removed in 1.3. To keep the past behaviour, explicitly set `max_features=1.0` or remove this parameter as it is also the default value for RandomForestRegressors and ExtraTreesRegressors.\n",
      "  warn(\n",
      "C:\\Users\\sourish.dey\\AppData\\Roaming\\Python\\Python38\\site-packages\\sklearn\\ensemble\\_forest.py:416: FutureWarning: `max_features='auto'` has been deprecated in 1.1 and will be removed in 1.3. To keep the past behaviour, explicitly set `max_features=1.0` or remove this parameter as it is also the default value for RandomForestRegressors and ExtraTreesRegressors.\n",
      "  warn(\n"
     ]
    }
   ],
   "source": [
    "#stack best base models  \n",
    "base_models = [\n",
    "    ('lgb', LGBMRegressor(colsample_bytree=0.7160783663472557,\n",
    "            max_depth=7, min_child_samples=142,\n",
    "              min_child_weight=1e-05, n_estimators=2470, n_jobs=4,\n",
    "              num_leaves=37, objective='rmse', random_state=314, reg_alpha=2,\n",
    "              reg_lambda=0.1, silent=True, subsample=0.6193485704059235)),\n",
    "    ('xgb',XGBRegressor(base_score=0.5, booster='gbtree', callbacks=None,\n",
    "             colsample_bylevel=1, colsample_bynode=1, colsample_bytree=0.7,\n",
    "             early_stopping_rounds=0, enable_categorical=False,\n",
    "             eval_metric='rmse', gamma=0.01, gpu_id=-1, grow_policy='depthwise',\n",
    "             importance_type=None, interaction_constraints='',\n",
    "             learning_rate=0.05, max_bin=256, max_cat_to_onehot=4,\n",
    "             max_delta_step=0, max_depth=7, max_leaves=0, min_child_weight=1,\n",
    "             monotone_constraints='()', n_estimators=1650,\n",
    "             n_jobs=0, num_parallel_tree=1, predictor='auto', random_state=0,\n",
    "             reg_alpha=0, reg_lambda=1)),\n",
    "    ('rf',RandomForestRegressor(max_depth=15, max_features='auto', min_samples_split=5,\n",
    "                      n_estimators=200, random_state=314))                         \n",
    "    ]\n",
    "\n",
    "#StackingRegressor instance with LinearRegression as final_estimator\n",
    "stacked = StackingRegressor(\n",
    "    estimators = base_models,\n",
    "    final_estimator = LinearRegression(),\n",
    "    cv = 2)\n",
    "\n",
    "#Fit and save\n",
    "stacked.fit(X_transformed, Y)\n",
    "with open(os.path.join(model_path,'stacked_model_final.pkl'), 'wb') as fout:\n",
    "    pickle.dump(stacked, fout) "
   ]
  },
  {
   "cell_type": "markdown",
   "metadata": {},
   "source": [
    "### Scope for further improvement\n"
   ]
  },
  {
   "cell_type": "markdown",
   "metadata": {},
   "source": [
    "- Although not significant and mostly related to outliers to address this under prediction issue we may try following:\n",
    "    - Segmented model approach(for example seperate models for very long distance or seperate model for a seperate season)\n",
    "    - Quantile regression model especially for extreme high values and use this to predict for few highest/lowest quantiles for most explainable features\n",
    "    https://scikit-learn.org/stable/auto_examples/linear_model/plot_quantile_regression.html\n",
    "\n",
    "\n",
    "D) Feature Engg.\n",
    "    - Time series decomposed features(FFT,STL etc.)\n",
    "    - other spatial features like slope, hill \n",
    "    - Clustering approach(ML or Business rule based) to group start and end lat-longs also may act as a guiding priciple for precise prediction.  "
   ]
  },
  {
   "cell_type": "markdown",
   "metadata": {},
   "source": [
    "##                                                           Q&A"
   ]
  }
 ],
 "metadata": {
  "kernelspec": {
   "display_name": "Python 3.8.8 ('base')",
   "language": "python",
   "name": "python3"
  },
  "language_info": {
   "codemirror_mode": {
    "name": "ipython",
    "version": 3
   },
   "file_extension": ".py",
   "mimetype": "text/x-python",
   "name": "python",
   "nbconvert_exporter": "python",
   "pygments_lexer": "ipython3",
   "version": "3.8.8"
  },
  "orig_nbformat": 4,
  "vscode": {
   "interpreter": {
    "hash": "ad2bdc8ecc057115af97d19610ffacc2b4e99fae6737bb82f5d7fb13d2f2c186"
   }
  }
 },
 "nbformat": 4,
 "nbformat_minor": 2
}
